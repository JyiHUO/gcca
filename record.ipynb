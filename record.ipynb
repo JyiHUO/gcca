{
 "cells": [
  {
   "cell_type": "markdown",
   "metadata": {},
   "source": [
    "## two view 基因数据"
   ]
  },
  {
   "cell_type": "markdown",
   "metadata": {},
   "source": [
    "### Srbct数据集"
   ]
  },
  {
   "cell_type": "markdown",
   "metadata": {},
   "source": [
    "- 原始数据集（测试集:训练集 = 6:4）\n",
    "    - 训练集(25行, 2308) -> 投影后(25行, 2列)\n",
    "    - 测试集(38行, 4)"
   ]
  },
  {
   "cell_type": "markdown",
   "metadata": {},
   "source": [
    "|    name    | test ACC% |  spare% | \n",
    "| ---------- | --- |--- |\n",
    "|  cca |  76 |  0 |\n",
    "| Deep cca |  90 |  0 |\n",
    "|  gcca       |  94.7 |  0 |\n",
    "|  spare gcca       |  97.4 | 61.9  |"
   ]
  },
  {
   "cell_type": "markdown",
   "metadata": {},
   "source": [
    "### Leukemia数据集\n",
    "- 原始数据集（测试集:训练集 = 6:4）\n",
    "    - 训练集(28行, 3571) -> 投影后(28行, 2列)\n",
    "    - 测试集(44行, 2)"
   ]
  },
  {
   "cell_type": "markdown",
   "metadata": {},
   "source": [
    "|    name    | test ACC% |  spare% | \n",
    "| ---------- | --- |--- |\n",
    "|  cca |  93 |  0 |\n",
    "| Deep cca |  83 |  0 |\n",
    "|  gcca       |  97.7 |  0 |\n",
    "|  spare gcca       |  95.4 | 74.6  |"
   ]
  },
  {
   "cell_type": "markdown",
   "metadata": {},
   "source": [
    "### Lymphoma数据集\n",
    "- 原始数据集（测试集:训练集 = 6:4）\n",
    "    - 训练集(24行, 4026) -> 投影后(24行, 2列)\n",
    "    - 测试集(38行, 3)"
   ]
  },
  {
   "cell_type": "markdown",
   "metadata": {},
   "source": [
    "|    name    | test ACC% |  spare% | \n",
    "| ---------- | --- |--- |\n",
    "|  cca |  94 |  0 |\n",
    "| Deep cca |  77 |  0 |\n",
    "|  gcca       |  92 |  0 |\n",
    "|  spare gcca       |  89 | 74.6  |"
   ]
  },
  {
   "cell_type": "markdown",
   "metadata": {},
   "source": [
    "### Prostate数据集\n",
    "- 原始数据集（测试集:训练集 = 6:4）\n",
    "    - 训练集(40行, 6033) -> 投影后(40行, 2列)\n",
    "    - 测试集(62行, 2)"
   ]
  },
  {
   "cell_type": "markdown",
   "metadata": {},
   "source": [
    "|    name    | test ACC% |  spare% | \n",
    "| ---------- | --- |--- |\n",
    "|  cca |  91 |  0 |\n",
    "| Deep cca |  77 |  0 |\n",
    "|  gcca       |  88 |  0 |\n",
    "|  spare gcca       |  90.3 | 74.6  |"
   ]
  },
  {
   "cell_type": "code",
   "execution_count": null,
   "metadata": {
    "collapsed": true
   },
   "outputs": [],
   "source": []
  },
  {
   "cell_type": "code",
   "execution_count": 1,
   "metadata": {
    "collapsed": true
   },
   "outputs": [],
   "source": [
    "from sklearn.cross_decomposition import CCA"
   ]
  },
  {
   "cell_type": "code",
   "execution_count": 2,
   "metadata": {},
   "outputs": [
    {
     "name": "stderr",
     "output_type": "stream",
     "text": [
      "Using Theano backend.\n"
     ]
    }
   ],
   "source": [
    "from mygcca_t import *"
   ]
  },
  {
   "cell_type": "code",
   "execution_count": 72,
   "metadata": {},
   "outputs": [
    {
     "name": "stdout",
     "output_type": "stream",
     "text": [
      "(102, 6033)\n",
      "(102, 2)\n"
     ]
    }
   ],
   "source": [
    "dg = data_generate()\n",
    "# dg.generate_boston()\n",
    "# dg.generate_mnist(normalize=False)\n",
    "# dg.generate_mnist_half()\n",
    "# dg.en_es_fr(800)\n",
    "dg.generate_genes_data(num=3)"
   ]
  },
  {
   "cell_type": "code",
   "execution_count": 73,
   "metadata": {
    "collapsed": true
   },
   "outputs": [],
   "source": [
    "clf = CCA(n_components=2)"
   ]
  },
  {
   "cell_type": "code",
   "execution_count": 74,
   "metadata": {},
   "outputs": [
    {
     "name": "stderr",
     "output_type": "stream",
     "text": [
      "/home/biss/anaconda2/envs/gpu/lib/python3.6/site-packages/sklearn/cross_decomposition/pls_.py:287: UserWarning: Y residual constant at iteration 1\n",
      "  warnings.warn('Y residual constant at iteration %s' % k)\n"
     ]
    },
    {
     "data": {
      "text/plain": [
       "CCA(copy=True, max_iter=500, n_components=2, scale=True, tol=1e-06)"
      ]
     },
     "execution_count": 74,
     "metadata": {},
     "output_type": "execute_result"
    }
   ],
   "source": [
    "clf.fit(dg.train_data[0].T, dg.train_data[1].T)"
   ]
  },
  {
   "cell_type": "code",
   "execution_count": 75,
   "metadata": {
    "collapsed": true
   },
   "outputs": [],
   "source": [
    "x_train, y_train = clf.transform(dg.train_data[0].T, dg.train_data[1].T)\n",
    "x_test, y_test = clf.transform(dg.test_data[0].T, dg.test_data[1].T)"
   ]
  },
  {
   "cell_type": "code",
   "execution_count": 76,
   "metadata": {},
   "outputs": [
    {
     "name": "stdout",
     "output_type": "stream",
     "text": [
      "(40, 2)\n",
      "(62, 2)\n"
     ]
    }
   ],
   "source": [
    "print (x_train.shape)\n",
    "print (x_test.shape)"
   ]
  },
  {
   "cell_type": "code",
   "execution_count": 77,
   "metadata": {},
   "outputs": [
    {
     "name": "stdout",
     "output_type": "stream",
     "text": [
      "(6033, 2)\n",
      "(2, 2)\n"
     ]
    }
   ],
   "source": [
    "print (clf.x_weights_.shape)\n",
    "print (clf.y_weights_.shape)"
   ]
  },
  {
   "cell_type": "code",
   "execution_count": 78,
   "metadata": {},
   "outputs": [
    {
     "name": "stdout",
     "output_type": "stream",
     "text": [
      "1.0\n",
      "0.9193548387096774\n",
      "[0.5, 0.5]\n",
      "0.5\n",
      "训练集： (6033, 40)\n",
      "测试集： (2, 62)\n"
     ]
    }
   ],
   "source": [
    "gcca = GeneralizedCCA(ds=dg, m_rank=4)\n",
    "gcca.list_U = [clf.x_weights_, clf.y_weights_]\n",
    "print(gcca.cal_acc([x_train, y_train]))\n",
    "print(gcca.cal_acc([x_test, y_test]))\n",
    "print(gcca.cal_spare())\n",
    "print(np.mean(gcca.cal_spare()))\n",
    "print(\"训练集：\", dg.train_data[0].shape)\n",
    "print(\"测试集：\", dg.test_data[1].shape)"
   ]
  },
  {
   "cell_type": "code",
   "execution_count": null,
   "metadata": {
    "collapsed": true
   },
   "outputs": [],
   "source": []
  }
 ],
 "metadata": {
  "kernelspec": {
   "display_name": "Python [conda env:gpu]",
   "language": "python",
   "name": "conda-env-gpu-py"
  },
  "language_info": {
   "codemirror_mode": {
    "name": "ipython",
    "version": 3
   },
   "file_extension": ".py",
   "mimetype": "text/x-python",
   "name": "python",
   "nbconvert_exporter": "python",
   "pygments_lexer": "ipython3",
   "version": "3.6.2"
  }
 },
 "nbformat": 4,
 "nbformat_minor": 2
}
