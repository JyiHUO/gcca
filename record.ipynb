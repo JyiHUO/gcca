{
 "cells": [
  {
   "cell_type": "markdown",
   "metadata": {},
   "source": [
    "# two view 基因数据"
   ]
  },
  {
   "cell_type": "markdown",
   "metadata": {},
   "source": [
    "**the size of train : the size of test = 4:6**"
   ]
  },
  {
   "cell_type": "markdown",
   "metadata": {},
   "source": [
    "**m_rank = 2**"
   ]
  },
  {
   "cell_type": "markdown",
   "metadata": {},
   "source": [
    "### Srbct数据集"
   ]
  },
  {
   "cell_type": "markdown",
   "metadata": {},
   "source": [
    "- the shape of training data in view one is:  (25, 2308)\n",
    "- the shape of training data in view two is:  (25, 4)\n",
    "- the shape of testing data in view one is:  (38, 2308)\n",
    "- the shape of testing data in view two is:  (38, 2308)"
   ]
  },
  {
   "cell_type": "markdown",
   "metadata": {},
   "source": [
    "|    name    | test ACC% |  spare% | train ACC%| correlation\n",
    "| ---------- | --- |--- | --- | --- |\n",
    "|  cca |  76 |  0 | 0| 0 |\n",
    "| Deep cca |  90 |  0 | 0 | 0 |\n",
    "|  gcca       |  94.7 |  0 | 0| 0|\n",
    "|  spare gcca       |  97.4 | 98.9  |100 | 99.9|"
   ]
  },
  {
   "cell_type": "markdown",
   "metadata": {},
   "source": [
    "### Leukemia数据集\n",
    "- the shape of training data in view one is:  (28, 3571)\n",
    "- the shape of training data in view two is:  (28, 2)\n",
    "- the shape of testing data in view one is:  (44, 3571)\n",
    "- the shape of testing data in view two is:  (44, 3571)"
   ]
  },
  {
   "cell_type": "markdown",
   "metadata": {},
   "source": [
    "|    name    | test ACC% |  spare% | train ACC%| correlation\n",
    "| ---------- | --- |--- | --- | --- |\n",
    "|  cca |  76 |  0 | 0| 0 |\n",
    "| Deep cca |  90 |  0 | 0 | 0 |\n",
    "|  gcca       |  94.7 |  0 | 0| 0|\n",
    "|  spare gcca       |  97.4 | 98.9  |100 | 99.9|"
   ]
  },
  {
   "cell_type": "markdown",
   "metadata": {},
   "source": [
    "|    name    | test ACC% |  spare% | \n",
    "| ---------- | --- |--- |\n",
    "|  cca |  93 |  0 |\n",
    "| Deep cca |  83 |  0 |\n",
    "|  gcca       |  97.7 |  0 |\n",
    "|  spare gcca       |  95.4 | 99.2  |"
   ]
  },
  {
   "cell_type": "markdown",
   "metadata": {},
   "source": [
    "### Lymphoma数据集\n",
    "- the shape of training data in view one is:  (24, 4026)\n",
    "- the shape of training data in view two is:  (24, 3)\n",
    "- the shape of testing data in view one is:  (38, 4026)\n",
    "- the shape of testing data in view two is:  (38, 4026)"
   ]
  },
  {
   "cell_type": "markdown",
   "metadata": {},
   "source": [
    "|    name    | test ACC% |  spare% | \n",
    "| ---------- | --- |--- |\n",
    "|  cca |  94 |  0 |\n",
    "| Deep cca |  77 |  0 |\n",
    "|  gcca       |  92 |  0 |\n",
    "|  spare gcca       |  89 | 99.4  |"
   ]
  },
  {
   "cell_type": "markdown",
   "metadata": {},
   "source": [
    "### Prostate数据集\n",
    "- the shape of training data in view one is:  (40, 6033)\n",
    "- the shape of training data in view two is:  (40, 2)\n",
    "- the shape of testing data in view one is:  (62, 6033)\n",
    "- the shape of testing data in view two is:  (62, 6033)"
   ]
  },
  {
   "cell_type": "markdown",
   "metadata": {},
   "source": [
    "|    name    | test ACC% |  spare% | \n",
    "| ---------- | --- |--- |\n",
    "|  cca |  91 |  0 |\n",
    "| Deep cca |  77 |  0 |\n",
    "|  gcca       |  88 |  0 |\n",
    "|  spare gcca       |  90.3 | 99.3  |"
   ]
  },
  {
   "cell_type": "markdown",
   "metadata": {},
   "source": [
    "### Brain数据集\n",
    "- the shape of training data in view one is:  (16, 5597)\n",
    "- the shape of training data in view two is:  (16, 5)\n",
    "- the shape of testing data in view one is:  (26, 5597)\n",
    "- the shape of testing data in view two is:  (26, 5597)"
   ]
  },
  {
   "cell_type": "markdown",
   "metadata": {},
   "source": [
    "### Colon数据集\n",
    "- the shape of training data in view one is:  (24, 2000)\n",
    "- the shape of training data in view two is:  (24, 2)\n",
    "- the shape of testing data in view one is:  (38, 2000)\n",
    "- the shape of testing data in view two is:  (38, 2000)"
   ]
  },
  {
   "cell_type": "markdown",
   "metadata": {
    "collapsed": true
   },
   "source": [
    "# three views"
   ]
  },
  {
   "cell_type": "markdown",
   "metadata": {},
   "source": [
    "**the size of train : the size of test = 5:5**"
   ]
  },
  {
   "cell_type": "markdown",
   "metadata": {},
   "source": [
    "**m_rank = 20**"
   ]
  },
  {
   "cell_type": "markdown",
   "metadata": {},
   "source": [
    "|    name    | train G error |  test G error | spare% | \n",
    "| ---------- | --- |--- | --- |\n",
    "|  spare gcca       |  5e-5 | 2.67  | 98.7 |\n",
    "|   gcca       |  1e-14 | 2.5  | 46.7 |"
   ]
  },
  {
   "cell_type": "code",
   "execution_count": null,
   "metadata": {
    "collapsed": true
   },
   "outputs": [],
   "source": []
  }
 ],
 "metadata": {
  "kernelspec": {
   "display_name": "Python [conda env:gpu]",
   "language": "python",
   "name": "conda-env-gpu-py"
  },
  "language_info": {
   "codemirror_mode": {
    "name": "ipython",
    "version": 3
   },
   "file_extension": ".py",
   "mimetype": "text/x-python",
   "name": "python",
   "nbconvert_exporter": "python",
   "pygments_lexer": "ipython3",
   "version": "3.6.2"
  }
 },
 "nbformat": 4,
 "nbformat_minor": 2
}
