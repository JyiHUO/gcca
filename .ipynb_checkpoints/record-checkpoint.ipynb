{
 "cells": [
  {
   "cell_type": "markdown",
   "metadata": {},
   "source": [
    "# two view 基因数据"
   ]
  },
  {
   "cell_type": "markdown",
   "metadata": {},
   "source": [
    "**the size of train : the size of test = 4:6**"
   ]
  },
  {
   "cell_type": "markdown",
   "metadata": {},
   "source": [
    "**m_rank = 2**"
   ]
  },
  {
   "cell_type": "markdown",
   "metadata": {},
   "source": [
    "### Srbct数据集"
   ]
  },
  {
   "cell_type": "markdown",
   "metadata": {},
   "source": [
    "- the shape of training data in view one is:  (25, 2308)\n",
    "- the shape of training data in view two is:  (25, 4)\n",
    "- the shape of testing data in view one is:  (38, 2308)\n",
    "- the shape of testing data in view two is:  (38, 2308)"
   ]
  },
  {
   "cell_type": "markdown",
   "metadata": {},
   "source": [
    "|    name    | test ACC |  spare | train ACC| test_correlation| train_correlation|\n",
    "| ---------- | --- |--- | --- | --- | --- |\n",
    "|  cca |  0.851(0.057) |  0.000(0.000) | 0.772(0.106) | 0.747(0.069) | 1.000(0.000) |\n",
    "| Deep cca |  0.55(0.131) |  0 | 0.82(0.089) | 0.85(0.05) | 0.977(0.017) | \n",
    "|  gcca       |  0.894(0.040) |  0.030(0.005) | 1.000(0.000) | 0.774(0.111) | 0.991(0.028) |\n",
    "|  spare gcca      |  0.902(0.022) |  0.989(0.000) | 1.000(0.000) | 0.837(0.117) | 1.000(0.000) |"
   ]
  },
  {
   "cell_type": "markdown",
   "metadata": {},
   "source": [
    "### Leukemia数据集\n",
    "- the shape of training data in view one is:  (28, 3571)\n",
    "- the shape of training data in view two is:  (28, 2)\n",
    "- the shape of testing data in view one is:  (44, 3571)\n",
    "- the shape of testing data in view two is:  (44, 3571)"
   ]
  },
  {
   "cell_type": "markdown",
   "metadata": {},
   "source": [
    "|    name    | test ACC |  spare | train ACC| test_correlation| train_correlation|\n",
    "| ---------- | --- |--- | --- | --- | --- |\n",
    "|  cca |  0.872(0.026) |  0.500(0.000) | 1.000(0.000) | 0.936(0.040) | 1.000(0.000) |\n",
    "| Deep cca |  0.49(0.131) |  0 | 0.99(0.014) | 0.512(0.064) | 0.48(0.01) | \n",
    "|  gcca      |  0.903(0.013) |  0.043(0.004) | 1.000(0.000) | 0.966(0.018) | 1.000(0.000) |\n",
    "|  spare gcca      |  0.877(0.024) |  0.992(0.000) | 1.000(0.000) | 0.952(0.030) | 1.000(0.000) |"
   ]
  },
  {
   "cell_type": "markdown",
   "metadata": {},
   "source": [
    "### Lymphoma数据集\n",
    "- the shape of training data in view one is:  (24, 4026)\n",
    "- the shape of training data in view two is:  (24, 3)\n",
    "- the shape of testing data in view one is:  (38, 4026)\n",
    "- the shape of testing data in view two is:  (38, 4026)"
   ]
  },
  {
   "cell_type": "markdown",
   "metadata": {},
   "source": [
    "|    name    | test ACC% |  spare% | train ACC%| test_correlation| train_correlation|\n",
    "| ---------- | --- |--- | --- | --- | --- |\n",
    "|  cca |  0.929(0.015) |  0.000(0.000) | 1.000(0.000) | 0.945(0.027) | 1.000(0.000) |\n",
    "| Deep cca |  60(0.18) |  0 | 99.6(0.012) | 0.92(0.048) | 0.985(0.026) | \n",
    "|  gcca      |  0.904(0.021) |  0.050(0.006) | 1.000(0.000) | 0.929(0.074) | 1.000(0.000) |\n",
    "|  spare gcca     |  0.845(0.033) |  0.994(0.000) | 1.000(0.000) | 0.900(0.066) | 1.000(0.000) |"
   ]
  },
  {
   "cell_type": "markdown",
   "metadata": {},
   "source": [
    "### Prostate数据集\n",
    "- the shape of training data in view one is:  (40, 6033)\n",
    "- the shape of training data in view two is:  (40, 2)\n",
    "- the shape of testing data in view one is:  (62, 6033)\n",
    "- the shape of testing data in view two is:  (62, 6033)"
   ]
  },
  {
   "cell_type": "markdown",
   "metadata": {},
   "source": [
    "|    name    | test ACC |  spare | train ACC| test_correlation| train_correlation|\n",
    "| ---------- | --- |--- | --- | --- | --- |\n",
    "|  cca |  0.789(0.021) |  0.501(0.000) | 1.000(0.000) | 0.916(0.030) | 1.000(0.000) |\n",
    "| Deep cca |  0.316(0.111) |  0 | 0.345(0.08) | 0.33(0.08) | 0.47(0.04) | \n",
    "|  gcca      |  0.811(0.027) |  0.049(0.005) | 1.000(0.000) | 0.902(0.042) | 1.000(0.000) |\n",
    "|  spare gcca      |  0.758(0.042) |  0.993(0.000) | 1.000(0.000) | 0.884(0.043) | 1.000(0.000) |"
   ]
  },
  {
   "cell_type": "markdown",
   "metadata": {},
   "source": [
    "### Brain数据集\n",
    "- the shape of training data in view one is:  (16, 5597)\n",
    "- the shape of training data in view two is:  (16, 5)\n",
    "- the shape of testing data in view one is:  (26, 5597)\n",
    "- the shape of testing data in view two is:  (26, 5597)"
   ]
  },
  {
   "cell_type": "markdown",
   "metadata": {},
   "source": [
    "|    name    | test ACC%|  spare | train ACC| test_correlation| train_correlation|\n",
    "| ---------- | --- |--- | --- | --- | --- |\n",
    "|  cca |  0.778(0.058) |  0.001(0.001) | 0.631(0.149) | 0.558(0.065) | 1.000(0.000) |\n",
    "| Deep cca |  0.45(0.08) |  0 | 0.962(0.04) | 0.722(0.08) | 0.975(0.02) | \n",
    "|  gcca      |  0.726(0.130) |  0.043(0.004) | 0.963(0.057) | 0.473(0.071) | 0.926(0.113) |\n",
    "|  spare gcca      |  0.483(0.199) |  0.997(0.000) | 0.981(0.040) | 0.415(0.137) | 0.954(0.085) |"
   ]
  },
  {
   "cell_type": "markdown",
   "metadata": {},
   "source": [
    "### Colon数据集\n",
    "- the shape of training data in view one is:  (24, 2000)\n",
    "- the shape of training data in view two is:  (24, 2)\n",
    "- the shape of testing data in view one is:  (38, 2000)\n",
    "- the shape of testing data in view two is:  (38, 2000)"
   ]
  },
  {
   "cell_type": "markdown",
   "metadata": {},
   "source": [
    "|    name    | test ACC |  spare | train ACC| test_correlation| train_correlation|\n",
    "| ---------- | --- |--- | --- | --- | --- |\n",
    "|  cca |  0.559(0.074) |  0.500(0.000) | 1.000(0.000) | 0.776(0.058) | 1.000(0.000) |\n",
    "| Deep cca |  0.484(0.19) |  0 | 0.987(0.02) | 0.34(0.05) | 0.48(0.01) | \n",
    "|  gcca       |  0.616(0.066) |  0.015(0.002) | 1.000(0.000) | 0.842(0.041) | 1.000(0.000) |\n",
    "|  spare gcca       |  0.562(0.065) |  0.988(0.001) | 1.000(0.000) | 0.803(0.053) | 1.000(0.000) |"
   ]
  },
  {
   "cell_type": "markdown",
   "metadata": {
    "collapsed": true
   },
   "source": [
    "# three views of multi language data"
   ]
  },
  {
   "cell_type": "markdown",
   "metadata": {},
   "source": [
    "**the size of train : the size of test = 5:5**"
   ]
  },
  {
   "cell_type": "markdown",
   "metadata": {},
   "source": [
    "**m_rank = 20**"
   ]
  },
  {
   "cell_type": "markdown",
   "metadata": {},
   "source": [
    "|    name    | train G error |  test G error | spare% | \n",
    "| ---------- | --- |--- | --- |\n",
    "|  spare gcca       |  5e-5 | 2.67  | 98.7 |\n",
    "|   gcca       |  1e-14 | 2.5  | 46.7 |\n",
    "|   wgcca(2w)       |  9e-5 | 2.9  | 59.3 |"
   ]
  },
  {
   "cell_type": "markdown",
   "metadata": {
    "collapsed": true
   },
   "source": [
    "# synthetic data"
   ]
  },
  {
   "cell_type": "markdown",
   "metadata": {},
   "source": [
    "**the size of train : the size of test = 5:5**"
   ]
  },
  {
   "cell_type": "markdown",
   "metadata": {},
   "source": [
    "**m_rank = 1**"
   ]
  },
  {
   "cell_type": "markdown",
   "metadata": {},
   "source": [
    "|    name    | train G error |  test G error | spare% | \n",
    "| ---------- | --- |--- | --- |\n",
    "|  spare gcca       |  3.6e-6 | 0.342  | 99.6 |\n",
    "|   gcca       |  1e-14 | 0.339  | 4.9 |\n",
    "|   wgcca(2w)       |  1e-4 | 0.53  | 75 |"
   ]
  },
  {
   "cell_type": "code",
   "execution_count": null,
   "metadata": {
    "collapsed": true
   },
   "outputs": [],
   "source": []
  }
 ],
 "metadata": {
  "kernelspec": {
   "display_name": "Python [conda env:gpu]",
   "language": "python",
   "name": "conda-env-gpu-py"
  },
  "language_info": {
   "codemirror_mode": {
    "name": "ipython",
    "version": 3
   },
   "file_extension": ".py",
   "mimetype": "text/x-python",
   "name": "python",
   "nbconvert_exporter": "python",
   "pygments_lexer": "ipython3",
   "version": "3.6.2"
  }
 },
 "nbformat": 4,
 "nbformat_minor": 2
}
